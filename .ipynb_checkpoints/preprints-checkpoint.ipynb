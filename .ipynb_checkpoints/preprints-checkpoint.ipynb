{
 "cells": [
  {
   "cell_type": "markdown",
   "metadata": {
    "slideshow": {
     "slide_type": "slide"
    }
   },
   "source": [
    "# Open Science Initiatives\n",
    "\n",
    "<img src=\"img/open_science_venn.jpg\" width=75%>"
   ]
  },
  {
   "cell_type": "markdown",
   "metadata": {
    "slideshow": {
     "slide_type": "slide"
    }
   },
   "source": [
    "### Preprints  \n",
    "\n",
    "### Preregistration\n",
    "\n",
    "### Registered Reports\n",
    "\n"
   ]
  },
  {
   "cell_type": "markdown",
   "metadata": {
    "slideshow": {
     "slide_type": "slide"
    }
   },
   "source": [
    "# Preprints\n",
    "\n",
    "- Preprints are scholarly works posted online before they are accepted for publication\n",
    "    - Often they are submitted before peer review\n",
    "    - Can be submitted at any time *before* final acceptance\n",
    "    \n",
    "<img src =\"img/Snip-4.png\" width=50%>\n"
   ]
  },
  {
   "cell_type": "markdown",
   "metadata": {
    "slideshow": {
     "slide_type": "slide"
    }
   },
   "source": [
    "# Preprints\n",
    "\n",
    "\n",
    "<center><img src =\"img/pros_cons.jpeg\"></center>\n"
   ]
  },
  {
   "cell_type": "markdown",
   "metadata": {
    "slideshow": {
     "slide_type": "subslide"
    }
   },
   "source": [
    "## Benefits of preprints\n",
    "\n",
    "- Quality check of work before peer review\n",
    "- Accelerate pace of science by sharing findings \n",
    "    - It can take years to publish a paper\n",
    "    - Students and Collegues can be up to speed with current work\n",
    "- Open access\n",
    "- No fees\n",
    "- No predatory preprint servers\n",
    "- Nobody profiting off your hard work\n",
    "- Reduces file drawer problem\n",
    "- Publications rejected because of journal/editorial agendas still see light of day\n"
   ]
  },
  {
   "cell_type": "markdown",
   "metadata": {
    "slideshow": {
     "slide_type": "subslide"
    }
   },
   "source": [
    "## Drawbacks of Preprints\n",
    "- Extra work\n",
    "- Not fully accepted by scientific community\n",
    "- Some journals will not publish papers that have been posted on web\n",
    "- Some journals will not accept citations of preprints\n",
    "    - e.g. Trends in Cognitive Sciences\n",
    "- Fear that many poor quality studies will flood the fields\n",
    "    - Some evidence for this\n",
    "- Fear of being scooped\n",
    "    - Preprints have DOI's so there is recourse\n",
    "- Currently a preprint will **NOT** necessarily help you get a:\n",
    "    - PhD\n",
    "    - Job\n",
    "    - Promotion\n",
    "    - Raise\n",
    "    - **It is up to us to change this**\n"
   ]
  },
  {
   "cell_type": "markdown",
   "metadata": {
    "slideshow": {
     "slide_type": "slide"
    }
   },
   "source": [
    "# Preprint workflow\n",
    "\n",
    "\n",
    "1. Choose a preprint service  \n",
    "2. Get permission from all authors to share the preprint  \n",
    "3. Prepare your preprint file  \n",
    "4. Prepare supplemental materials  \n",
    "5. Choose disciplines  \n",
    "6. Decide how you want to license your preprint  \n",
    "7. Write the abstract  \n",
    "8. Determine the authorship order \n",
    "\n",
    "\n",
    "\n",
    "- From: http://help.osf.io/m/preprints/l/691805-how-to-prepare-your-preprint"
   ]
  },
  {
   "cell_type": "markdown",
   "metadata": {
    "slideshow": {
     "slide_type": "slide"
    }
   },
   "source": [
    "## Some Preprint Sercives\n",
    "\n",
    "- OSF Preprints\n",
    "- PsyArxiv  \n",
    "- bioRxiv  \n",
    "- MediArXiv  \n",
    "- MetaArXiv  \n",
    "- PeerJ  \n",
    "- Preprints.org  \n",
    "- PsyArXiv  \n",
    "- SocArXiv\n",
    "- <a href = \"https://macsphere.mcmaster.ca/\">Mac Sphere</a>\n",
    "\n",
    "### Good news!  All of these servers are indexed by Google Scholar"
   ]
  },
  {
   "cell_type": "markdown",
   "metadata": {
    "slideshow": {
     "slide_type": "slide"
    }
   },
   "source": [
    "# Author permission\n",
    "\n",
    "- You may have to teach your co-authors about preprints.  \n",
    "- Make sure you have written permission to submit a preprint from all of your co-authors."
   ]
  },
  {
   "cell_type": "markdown",
   "metadata": {
    "slideshow": {
     "slide_type": "slide"
    }
   },
   "source": [
    "## Preparing a preprint\n",
    "- A preprint is just a regular manuscript, so write your manuscript the way you would normally  \n",
    "- What is nice is that you don't need to adhere to a journal's formatting rules\n",
    "    - You may want to prepare it for journal submission\n",
    "        - You could submit the preprint at the same time as submitting it to a journal\n",
    "        - You could submit the preprint before submitting it to a journal\n",
    "- Prepare your supplimentary materials also\n",
    "    - In open science, we are encouraged to share:\n",
    "        - Stimuli  \n",
    "        - Experiment code  \n",
    "        - Data  \n",
    "        - Full analysis and code  \n",
    "        - You can even have open manuscripts with version tracking to be transparant about editorial decisions\n",
    "            - This is on the extreme end\n",
    "    - The idea is to make the entire experiment replicable and transparant\n",
    "        - This will be the focus of next session on the Reproducibility Revolution"
   ]
  },
  {
   "cell_type": "markdown",
   "metadata": {
    "slideshow": {
     "slide_type": "slide"
    }
   },
   "source": [
    "# Submitting a preprint  \n",
    "### For this example we will use OSF preprints\n",
    "\n",
    "\n",
    "\n"
   ]
  },
  {
   "cell_type": "code",
   "execution_count": 13,
   "metadata": {
    "slideshow": {
     "slide_type": "subslide"
    }
   },
   "outputs": [
    {
     "data": {
      "text/html": [
       "\n",
       "        <iframe\n",
       "            width=\"1000\"\n",
       "            height=\"600\"\n",
       "            src=\"http://help.osf.io/m/preprints/l/627729-upload-a-preprint\"\n",
       "            frameborder=\"0\"\n",
       "            allowfullscreen\n",
       "        ></iframe>\n",
       "        "
      ],
      "text/plain": [
       "<IPython.lib.display.IFrame at 0x7f51ec1ebb38>"
      ]
     },
     "execution_count": 13,
     "metadata": {},
     "output_type": "execute_result"
    }
   ],
   "source": [
    "from IPython.display import IFrame\n",
    "IFrame(src='http://help.osf.io/m/preprints/l/627729-upload-a-preprint', width=1000, height=600)"
   ]
  },
  {
   "cell_type": "code",
   "execution_count": null,
   "metadata": {},
   "outputs": [],
   "source": []
  }
 ],
 "metadata": {
  "celltoolbar": "Slideshow",
  "kernelspec": {
   "display_name": "Python 3",
   "language": "python",
   "name": "python3"
  },
  "language_info": {
   "codemirror_mode": {
    "name": "ipython",
    "version": 3
   },
   "file_extension": ".py",
   "mimetype": "text/x-python",
   "name": "python",
   "nbconvert_exporter": "python",
   "pygments_lexer": "ipython3",
   "version": "3.7.3"
  }
 },
 "nbformat": 4,
 "nbformat_minor": 2
}
