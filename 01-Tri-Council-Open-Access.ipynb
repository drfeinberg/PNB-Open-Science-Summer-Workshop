{
 "cells": [
  {
   "cell_type": "markdown",
   "metadata": {
    "slideshow": {
     "slide_type": "slide"
    }
   },
   "source": [
    "# Tri-Council Compliance\n",
    "\n"
   ]
  },
  {
   "cell_type": "markdown",
   "metadata": {
    "slideshow": {
     "slide_type": "slide"
    }
   },
   "source": [
    "<div class=\"alert alert-success\">\n",
    "\n",
    "\"As publicly funded organizations, the Agencies have a fundamental interest in promoting the availability of findings that result from the research they fund, including research publications and data, to the widest possible audience, and at the earliest possible opportunity.\"\n",
    "\n",
    "</div>  \n",
    "\n",
    "\n",
    "<center><img src=\"img/tri-agency_venn_diagram.gif\"></center>"
   ]
  },
  {
   "cell_type": "markdown",
   "metadata": {
    "slideshow": {
     "slide_type": "slide"
    }
   },
   "source": [
    "# Policy Objective\n",
    "\n",
    "<div class=\"alert alert-success\">\n",
    "    The objective of this policy is to improve access to the results of Agency-funded research, and to increase the dissemination and exchange of research results. All researchers, regardless of funding support, are encouraged to adhere to this policy.\n",
    "</div>"
   ]
  },
  {
   "cell_type": "markdown",
   "metadata": {
    "slideshow": {
     "slide_type": "slide"
    }
   },
   "source": [
    "# Policy Statement  \n",
    "## Peer-reviewed Journal Publications  \n",
    "\n",
    "Grant recipients are required to ensure that any peer-reviewed journal publications arising from Agency-supported research are freely accessible within 12 months of publication. Recipients can do this through one of the following routes:\n"
   ]
  },
  {
   "cell_type": "markdown",
   "metadata": {
    "slideshow": {
     "slide_type": "subslide"
    }
   },
   "source": [
    "###         Online Repositories  \n",
    "- Grant recipients can deposit their final, peer-reviewed manuscript into an institutional or disciplinary repository that will make the manuscript freely accessible within 12 months of publication. It is the responsibility of the grant recipient to determine which publishers allow authors to retain copyright and/or allow authors to archive journal publications in accordance with funding agency policies."
   ]
  },
  {
   "cell_type": "markdown",
   "metadata": {
    "slideshow": {
     "slide_type": "subslide"
    }
   },
   "source": [
    "###         Journals  \n",
    "    \n",
    "- Grant recipients can publish in a journal that offers immediate open access or that offers open access on its website within 12 months. Some journals require authors to pay article processing charges (APCs) to make manuscripts freely available upon publication. The cost of publishing in open access journals  is an eligible expense under the Use of Grant Funds. "
   ]
  },
  {
   "cell_type": "markdown",
   "metadata": {
    "slideshow": {
     "slide_type": "subslide"
    }
   },
   "source": [
    "These routes to open access are not mutually exclusive. Researchers are strongly encouraged to deposit a copy of the final, peer-reviewed manuscript into an accessible online repository immediately upon publication, even if the article is freely available on the journal’s website.\n",
    "\n",
    "Grant recipients must acknowledge Agency contributions in all peer-reviewed publications, quoting the funding reference number (e.g. FRN, Application ID)."
   ]
  },
  {
   "cell_type": "markdown",
   "metadata": {
    "slideshow": {
     "slide_type": "slide"
    }
   },
   "source": [
    "# Publication-related Research Data  \n",
    "## CIHR only  \n",
    "### Recipients of CIHR funding are required to adhere with the following responsibilities:  \n",
    "- Deposit bioinformatics, atomic, and molecular coordinate data into the appropriate public database (e.g. gene sequences deposited in GenBank) immediately upon publication of research results. Please refer to the Annex for examples of research outputs and the corresponding publicly accessible repository or database.  \n",
    "\n",
    "- Retain original data sets for a minimum of five years after the end of the grant (or longer if other policies apply).This applies to all data, whether published or not. The grant recipient's institution and research ethics board may have additional policies and practices regarding the preservation, retention, and protection of research data that must be respected.  "
   ]
  },
  {
   "cell_type": "markdown",
   "metadata": {
    "slideshow": {
     "slide_type": "slide"
    }
   },
   "source": [
    "# How does this policy apply to graduate students and post-doctoral fellows?\n",
    "\n",
    "Individuals in receipt of graduate scholarships and fellowships are not required to adhere to the Tri-Agency Open Access Policy on Publications, although the Agencies encourage open access to all research publications. "
   ]
  },
  {
   "cell_type": "markdown",
   "metadata": {
    "slideshow": {
     "slide_type": "slide"
    }
   },
   "source": [
    "# Implementation Date\n",
    "## CIHR  \n",
    "\n",
    "- For research funded in whole or in part by CIHR, this policy applies to all grants awarded January 1, 2008 and onward. While not required, researchers holding grants that were awarded prior to January 1, 2008 are encouraged to adhere to the requirements of this policy.\n",
    "\n",
    "\n",
    "## NSERC and SSHRC\n",
    "- For research funded in whole or in part by NSERC or SSHRC, this policy applies to all grants awarded May 1, 2015 and onward. While not required, researchers holding grants that were awarded prior to May 1, 2015 are encouraged to adhere to the requirements of this policy.\n",
    "\n",
    "# Grace periods\n",
    "- If your grant was awarded before 2008 (CHIR only) or 2015 (NSERC and SSHRC), you do not have to comply\n",
    "- It is unlikely you will be in this situation going forward."
   ]
  },
  {
   "cell_type": "markdown",
   "metadata": {
    "slideshow": {
     "slide_type": "slide"
    }
   },
   "source": [
    "# I don't want to do this/ I don't care/ Come and get me/ I'm above the law\n",
    "\n",
    "\n",
    "## If you don't comply with this policy, here is what could happen:  \n",
    "<div class=\"alert alert-danger\">\n",
    "\n",
    "- They write you a letter   \n",
    "- They ask you to fix it  \n",
    "- They will stop accepting future applications  \n",
    "- Terminating remaining installments of grant or award  \n",
    "- Seeking a refund within a defined time frame of all or part of the funds already paid;  \n",
    "- Advising the researcher that the Agency will not consider him/her to serve on agency committees (e.g. peer review, advisory boards)\n",
    "- Such other recourse available by law.  "
   ]
  },
  {
   "cell_type": "markdown",
   "metadata": {
    "slideshow": {
     "slide_type": "slide"
    }
   },
   "source": [
    "# Doesn't open access cost a lot of money?\n",
    "\n",
    "\n",
    "------------\n",
    "<center><img src=\"img/Cost_of_publishing2.jpg\"></center>\n",
    "\n",
    "- Van Noorden, R. (2013). Open access: The true cost of science publishing. Nature News, 495(7442), 426."
   ]
  },
  {
   "cell_type": "markdown",
   "metadata": {
    "slideshow": {
     "slide_type": "slide"
    }
   },
   "source": [
    "# Open acess journal fees are expensive\n",
    "### These are journals that are fully open acess\n",
    "- PLOS One - \\\\$1595 USD per article  \n",
    "\n",
    "- Frontiers \\\\$45 to \\\\$2,950 USD per article, depending on the type and journal  \n",
    "\n",
    "- Royal Society Open Science £900  \n",
    "\n",
    "\n",
    "# Open Choice Options are also very expensive\n",
    "### Here you would pay for article in closed access journal to have open access\n",
    "- Journal of Neuroscience $3,085\n",
    "- Elsevier \\\\$150-\\\\$5000 USD depending on journal and article type"
   ]
  },
  {
   "cell_type": "markdown",
   "metadata": {
    "slideshow": {
     "slide_type": "slide"
    }
   },
   "source": [
    "# This is crazy!  How am I supposed to afford this?\n",
    "\n",
    "- Getting your fees waived from a journal\n",
    "- Online Repositories"
   ]
  },
  {
   "cell_type": "markdown",
   "metadata": {
    "slideshow": {
     "slide_type": "subslide"
    }
   },
   "source": [
    "# Fee waivers\n",
    "- Do not rely on fee waivers\n",
    "- If you cannot afford to buy your journal article, contact the journal before submitting\n",
    "    - Many journals have fee waiving policies\n",
    "    - Do your homework\n",
    "- Having said that, I've been successfull at getting fees waived several times.\n",
    "    - Here is how in 3 easy steps:  \n",
    "        1) Do not have a grant  \n",
    "        2) Send proof that you do not have grant funding to the journal  \n",
    "        3) Cross fingers/send good vibes/pray  \n",
    "    - Be prepared to send article to a new journal that does not cost money\n",
    "    "
   ]
  },
  {
   "cell_type": "markdown",
   "metadata": {
    "slideshow": {
     "slide_type": "subslide"
    }
   },
   "source": [
    "# Online Repositories\n",
    "## Don't want to pay any money? \n",
    "### Say no more fam. I got you!\n",
    "\n",
    "<div class=\"alert alert-success\">\n",
    "Online repositories are free and open access servers for pre and post prints\n",
    "</div>"
   ]
  },
  {
   "cell_type": "markdown",
   "metadata": {},
   "source": [
    "# Online Repositories"
   ]
  }
 ],
 "metadata": {
  "celltoolbar": "Slideshow",
  "kernelspec": {
   "display_name": "Python 3",
   "language": "python",
   "name": "python3"
  },
  "language_info": {
   "codemirror_mode": {
    "name": "ipython",
    "version": 3
   },
   "file_extension": ".py",
   "mimetype": "text/x-python",
   "name": "python",
   "nbconvert_exporter": "python",
   "pygments_lexer": "ipython3",
   "version": "3.7.3"
  }
 },
 "nbformat": 4,
 "nbformat_minor": 2
}
