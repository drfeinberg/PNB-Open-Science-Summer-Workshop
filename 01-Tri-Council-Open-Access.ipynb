{
 "cells": [
  {
   "cell_type": "markdown",
   "metadata": {},
   "source": [
    "<center> <h1> PNB Summer Open Science Workshop </h1></center>\n",
    "<h1></h1>\n",
    "\n",
    "<center><img src =\"img/mcm-sci-pnb_left-col_eps.png\"></center>\n",
    "<center><img src =\"img/open_science_venn.jpg\" width=60%></center>\n",
    "Hosted by David R. Feinberg, PhD"
   ]
  },
  {
   "cell_type": "markdown",
   "metadata": {
    "slideshow": {
     "slide_type": "slide"
    }
   },
   "source": [
    "# Compliance with Tri-Council open access policy\n",
    "\n"
   ]
  },
  {
   "cell_type": "markdown",
   "metadata": {
    "slideshow": {
     "slide_type": "slide"
    }
   },
   "source": [
    "<center><img src=\"img/tri-agency_venn_diagram.gif\"></center>\n",
    "\n",
    "\n",
    "<div class=\"alert alert-success\">\n",
    "\n",
    "\"As publicly funded organizations, the Agencies have a fundamental interest in promoting the availability of findings that result from the research they fund, including research publications and data, to the widest possible audience, and at the earliest possible opportunity.\"\n",
    "\n",
    "</div>  \n",
    "\n",
    "\n"
   ]
  },
  {
   "cell_type": "markdown",
   "metadata": {
    "slideshow": {
     "slide_type": "slide"
    }
   },
   "source": [
    "# Policy Statement  \n",
    "## Peer-reviewed Journal Publications  \n",
    "\n",
    "Grant recipients are required to ensure that any peer-reviewed journal publications arising from Agency-supported research are freely accessible within 12 months of publication. Recipients can do this through one of the following routes:\n"
   ]
  },
  {
   "cell_type": "markdown",
   "metadata": {
    "slideshow": {
     "slide_type": "subslide"
    }
   },
   "source": [
    "###         Online Repositories  \n",
    "- Grant recipients can deposit their final, peer-reviewed manuscript into an institutional or disciplinary repository that will make the manuscript freely accessible within 12 months of publication. It is the responsibility of the grant recipient to determine which publishers allow authors to retain copyright and/or allow authors to archive journal publications in accordance with funding agency policies."
   ]
  },
  {
   "cell_type": "markdown",
   "metadata": {
    "slideshow": {
     "slide_type": "subslide"
    }
   },
   "source": [
    "###         Journals  \n",
    "    \n",
    "- Grant recipients can publish in a journal that offers immediate open access or that offers open access on its website within 12 months. Some journals require authors to pay article processing charges (APCs) to make manuscripts freely available upon publication. The cost of publishing in open access journals  is an eligible expense under the Use of Grant Funds. "
   ]
  },
  {
   "cell_type": "markdown",
   "metadata": {
    "slideshow": {
     "slide_type": "subslide"
    }
   },
   "source": [
    "These routes to open access are not mutually exclusive. Researchers are strongly encouraged to deposit a copy of the final, peer-reviewed manuscript into an accessible online repository immediately upon publication, even if the article is freely available on the journal’s website.\n",
    "\n",
    "Grant recipients must acknowledge Agency contributions in all peer-reviewed publications, quoting the funding reference number (e.g. FRN, Application ID)."
   ]
  },
  {
   "cell_type": "markdown",
   "metadata": {
    "slideshow": {
     "slide_type": "slide"
    }
   },
   "source": [
    "# Publication-related Research Data  \n",
    "## CIHR only  \n",
    "### Recipients of CIHR funding are required to adhere with the following responsibilities:  \n",
    "- Deposit bioinformatics, atomic, and molecular coordinate data into the appropriate public database (e.g. gene sequences deposited in GenBank) immediately upon publication of research results. Please refer to the Annex for examples of research outputs and the corresponding publicly accessible repository or database.  \n",
    "\n",
    "- Retain original data sets for a minimum of five years after the end of the grant (or longer if other policies apply).This applies to all data, whether published or not. The grant recipient's institution and research ethics board may have additional policies and practices regarding the preservation, retention, and protection of research data that must be respected.  "
   ]
  },
  {
   "cell_type": "markdown",
   "metadata": {
    "slideshow": {
     "slide_type": "slide"
    }
   },
   "source": [
    "# How does this policy apply to graduate students and post-doctoral fellows?\n",
    "\n",
    "Individuals in receipt of graduate scholarships and fellowships are not required to adhere to the Tri-Agency Open Access Policy on Publications, although the Agencies encourage open access to all research publications. "
   ]
  },
  {
   "cell_type": "markdown",
   "metadata": {
    "slideshow": {
     "slide_type": "slide"
    }
   },
   "source": [
    "# Implementation Date\n",
    "## CIHR  \n",
    "\n",
    "- For research funded in whole or in part by CIHR, this policy applies to all grants awarded January 1, 2008 and onward. While not required, researchers holding grants that were awarded prior to January 1, 2008 are encouraged to adhere to the requirements of this policy."
   ]
  },
  {
   "cell_type": "markdown",
   "metadata": {
    "slideshow": {
     "slide_type": "fragment"
    }
   },
   "source": [
    "## NSERC and SSHRC\n",
    "- For research funded in whole or in part by NSERC or SSHRC, this policy applies to all grants awarded May 1, 2015 and onward. While not required, researchers holding grants that were awarded prior to May 1, 2015 are encouraged to adhere to the requirements of this policy."
   ]
  },
  {
   "cell_type": "markdown",
   "metadata": {
    "slideshow": {
     "slide_type": "subslide"
    }
   },
   "source": [
    "# Grace periods\n",
    "- If your grant was awarded before 2008 (CHIR only) or 2015 (NSERC and SSHRC), you do not have to comply\n",
    "- It is unlikely you will be in this situation going forward."
   ]
  },
  {
   "cell_type": "markdown",
   "metadata": {
    "slideshow": {
     "slide_type": "slide"
    }
   },
   "source": [
    "# Does Tri-Council Really Care?\n",
    "\n",
    "\n",
    "## If you don't comply with this policy, here is what could happen:  \n",
    "\n",
    "\n",
    "- They write you a letter  \n",
    "- They ask you to fix it  \n",
    "- They will stop accepting future applications  \n",
    "- Terminating remaining installments of grant or award  \n",
    "- Seeking a refund within a defined time frame of all or part of the funds already paid;  \n",
    "- Advising the researcher that the Agency will not consider him/her to serve on agency committees (e.g. peer review, advisory boards)  \n",
    "- Such other recourse available by law.  \n",
    "\n",
    "It would be terrible if you lost your grant or worse because you didn't post a paper online."
   ]
  },
  {
   "cell_type": "markdown",
   "metadata": {
    "slideshow": {
     "slide_type": "slide"
    }
   },
   "source": [
    "# Open access costs a lot of money\n",
    "\n",
    "<div>\n",
    "<h2>Publishers' Open Access article processing charges in USD</h2>  \n",
    "</br>\n",
    "<h3>A few examples dear to home...</h3>\n",
    "<li> Journal of Neuroscience \\$3,085 USD  </li>\n",
    "<li>  Cell \\$5000 USD  </li>\n",
    "\n",
    "<table border=\"1\" cellpadding=\"1\" cellspacing=\"1\" style=\"width: 500px;\"><thead><tr><th scope=\"col\">Publisher</th>\n",
    "<th scope=\"col\">APC from</th>\n",
    "<th scope=\"col\">APC to</th>\n",
    "<th scope=\"col\">Fully OA or Hybrid?</th>\n",
    "</tr></thead><tbody><tr><td><a href=\"http://pubs.acs.org/page/4authors/authorchoice/index.html\">American Chemical Society</a></td>\n",
    "<td>\\$5,000</td>\n",
    "<td>\\$5,000</td>\n",
    "<td>Hybrid</td>\n",
    "</tr><tr><td><a href=\"https://www.biomedcentral.com/about/publication-costs-and-funding\">BioMed Central</a></td>\n",
    "<td>\\$1,290</td>\n",
    "<td>\\$2,580</td>\n",
    "<td>Open Access</td>\n",
    "</tr><tr><td><a href=\"https://www.cambridge.org/core/services/open-access-policies/open-access-journals/gold-open-access-journals\">Cambridge University Press</a></td>\n",
    "<td>\\$600</td>\n",
    "<td>\\$4,500</td>\n",
    "<td>Hybrid</td>\n",
    "</tr><tr><td><a href=\"https://www.elsevier.com/about/company-information/policies/pricing\">Elsevier</a></td>\n",
    "<td>\\$100</td>\n",
    "<td>\\$5,000</td>\n",
    "<td>Hybrid</td>\n",
    "</tr><tr><td><a href=\"https://www.hindawi.com/apc/\">Hindawi</a></td>\n",
    "<td>\\$550</td>\n",
    "<td>\\$2,250</td>\n",
    "<td>Open Access</td>\n",
    "</tr><tr><td><a href=\"http://www.mdpi.com/about/apc#amount-apc\">MDPI</a></td>\n",
    "<td>CHF 300</td>\n",
    "<td>CHF 2,000</td>\n",
    "<td>Open Access</td>\n",
    "</tr><tr><td><a href=\"http://www.nature.com/openresearch/publishing-with-npg/nature-journals/\">Nature Publishing Group</a></td>\n",
    "<td>\\$1,100</td>\n",
    "<td>\\$5,200</td>\n",
    "<td>Hybrid</td>\n",
    "</tr><tr><td><a href=\"https://www.plos.org/publication-fees\">PLOS</a></td>\n",
    "<td>\\$1,600</td>\n",
    "<td>\\$3,000</td>\n",
    "<td>Open Access</td>\n",
    "</tr><tr><td><a href=\"https://uk.sagepub.com/en-gb/eur/sage-choice-journal-and-pricing-exceptions\">SAGE</a></td>\n",
    "<td>\\$400</td>\n",
    "<td>\\$3,000</td>\n",
    "<td>Hybrid</td>\n",
    "</tr><tr><td><a href=\"http://www.springer.com/gp/open-access/springer-open-choice\">Springer</a></td>\n",
    "<td>\\$3,000</td>\n",
    "<td>\\$3,000</td>\n",
    "<td>Hybrid</td>\n",
    "</tr><tr><td><a href=\"http://authorservices.taylorandfrancis.com/journal-list/\">Taylor &amp; Francis</a></td>\n",
    "<td>\\$500</td>\n",
    "<td>\\$2,950</td>\n",
    "<td>Open Access</td>\n",
    "</tr><tr><td><a href=\"https://authorservices.wiley.com/author-resources/Journal-Authors/open-access/article-publication-charges.html\">Wiley</a></td>\n",
    "<td>\\$1,300</td>\n",
    "<td>\\$5,200</td>\n",
    "<td>Hybrid</td>\n",
    "</tr></tbody></table>\n",
    "</div>\n",
    "\n",
    "- From:  https://www.openaccess.cam.ac.uk/paying-open-access/how-much-do-publishers-charge-open-access  \n",
    "\n",
    "- Last updated:  October 2018"
   ]
  },
  {
   "cell_type": "markdown",
   "metadata": {
    "slideshow": {
     "slide_type": "slide"
    }
   },
   "source": [
    "# This is crazy!  How am I supposed to afford this?\n",
    "\n",
    "- Win the lottery  \n",
    "- Get a really big grant  \n",
    "- Get your fees waived from a journal  \n",
    "- Use Free Online Repositories\n",
    "\n",
    "<img src = \"img/more_money.jpeg\" width=25%>  "
   ]
  },
  {
   "cell_type": "markdown",
   "metadata": {
    "slideshow": {
     "slide_type": "subslide"
    }
   },
   "source": [
    "# Fee waivers\n",
    "- Do not rely on fee waivers\n",
    "- If you cannot afford to buy your journal article, contact the journal before submitting\n",
    "    - Many journals have fee waiving policies\n",
    "    - Do your homework\n",
    "- Having said that, I've been successfull at getting fees waived several times after submitting the paper\n",
    "    - Here is how in 3 easy steps:  \n",
    "        1) Do not have a grant  \n",
    "        2) Send proof that you do not have grant funding to the journal  \n",
    "        3) Cross fingers/send good vibes/pray  \n",
    "- Be prepared to send article to a new journal that does not cost money\n",
    "    "
   ]
  },
  {
   "cell_type": "markdown",
   "metadata": {
    "slideshow": {
     "slide_type": "slide"
    }
   },
   "source": [
    "# Have a grant but still don't want to pay any money?\n",
    "\n",
    "## Say no more fam. I got you!\n",
    "\n",
    "\n",
    "## Online repositories are free and open access servers for pre and post prints\n",
    "\n",
    "<img src = \"img/braveheart.jpg\" width = 50%>\n"
   ]
  },
  {
   "cell_type": "markdown",
   "metadata": {
    "slideshow": {
     "slide_type": "slide"
    }
   },
   "source": [
    "# \"Somebody\" may have told you that posting your paper online violates copyright law \n",
    "\n",
    "### Times have changed\n",
    "\n",
    "- Most journals have a 12 month embargo period\n",
    "    - Go look up your journal\n",
    "- Most journals exclude preprints\n",
    "- Most journals allow publication on private websites (ie those with passwords to log in)\n"
   ]
  },
  {
   "cell_type": "markdown",
   "metadata": {
    "slideshow": {
     "slide_type": "subslide"
    }
   },
   "source": [
    "# Here is Elsevier's policy\n",
    "\n",
    " \n",
    "## Author Rights for Scholarly Purposes  \n",
    "I understand that I retain or am hereby granted (without the need to obtain further permission) the Author Rights (see description below), and that no rights in patents, trademarks or other intellectual property rights are transferred to Elsevier Ltd.\n",
    "The Author Rights include the right to use the Preprint, Accepted Manuscript and the Published Journal Article  for  Personal Use and Internal Institutional Use. They also include the right to use these different versions of the Article for Scholarly Sharing purposes, which include sharing:\n",
    "\n",
    "- the Preprint on any website or repository at any time;\n",
    "- the Accepted Manuscript on certain websites and usually after an embargo period;\n",
    "- the Published Journal Article only privately on certain websites, unless otherwise agreed by Elsevier Ltd."
   ]
  },
  {
   "cell_type": "markdown",
   "metadata": {
    "slideshow": {
     "slide_type": "slide"
    }
   },
   "source": [
    "# Preprints vs Postprints\n",
    "\n",
    "## Preprints\n",
    "<div class=\"alert alert-danger\">\n",
    "    Read about your journals' policies before posting and/or alerting a journal that you have posted a preprint.  You will find that some journals still do not publish articles that have been preprinted.  Other journals will not accept citations from preprints.    \n",
    "</div> \n",
    "\n",
    "\n",
    "- Preprints are posted online before final acceptance from a journal  \n",
    "- There is no requirement that a preprint has been peer reviewed  \n",
    "- Often preprints are submitted at the same time that an author submits it to a journal.  \n",
    "- We will have a session on pre-prints this afternoon  \n",
    "\n",
    "\n",
    "## Postprints\n",
    "Posting your paper online after it is accepted means it's a postprint.  "
   ]
  },
  {
   "cell_type": "markdown",
   "metadata": {
    "slideshow": {
     "slide_type": "subslide"
    }
   },
   "source": [
    "## How to decide between preprint and postprint?  \n",
    "- Is your paper accepted in final form already?\n",
    "    - You need a postprint\n",
    "- Is your paper unpublished?\n",
    "    - You could do either  "
   ]
  },
  {
   "cell_type": "markdown",
   "metadata": {
    "slideshow": {
     "slide_type": "slide"
    }
   },
   "source": [
    "# Online Repositories\n",
    "\n",
    "## Here is the list of websites that can help you find repositories where you could postprint your papers (from science.gc.ca)\n",
    "\n",
    "\n",
    "<p><b>&#160; Repositories</b></p>\n",
    "<ul>\n",
    "<li><a href=\"http://www.carl-abrc.ca/advancing-research/institutional-repositories/\">Canadian Institutional Repositories</a> &#8211; Domestic information on publicly available archives or repositories</li>\n",
    "<li><a href=\"http://v2.sherpa.ac.uk/opendoar/\">Directory of Open Access Repositories</a> &#8211; International database of repositories</li>\n",
    "<li><a href=\"https://depot.erudit.org/?locale=en\">Erudit</a> &#8211; French Language repository</li>\n",
    "</ul>"
   ]
  },
  {
   "cell_type": "markdown",
   "metadata": {
    "slideshow": {
     "slide_type": "subslide"
    }
   },
   "source": [
    "<p><b>&#160; Open Access Resources and Directories</b></p>\n",
    "\n",
    "<ul>\n",
    "<li><a href=\"http://scienceetbiencommun.org/?q=node/22\">Association science et bien commun</a> (available in French only) &#8211; Resources on how to promote open access to research results.</li>\n",
    "<li><a href=\"http://www.base-search.net/\">Bielefeld Academic Search Engine (BASE)</a> &#8211; A search engine for academic open access web resources.</li>\n",
    "<li><a href=\"http://www.carl-abrc.ca/advancing-research/scholarly-communication/open-access/\" title=\"This link opens in a new window\">Canadian Association of Research Libraries</a> (CARL) &#8211; Resources on how to promote open access to research.</li>\n",
    "<li>CARL/ SPARC <a href=\"http://www.carl-abrc.ca/how-to-assess-a-journal/\">Brochure</a> and <a href=\"http://www.carl-abrc.ca/doc/EngPubAgree.pdf\">Canadian Author Addendum</a></li>\n",
    "<li><a href=\"http://www.doaj.org/\">Directory of Open Access Journals</a> (DOAJ) - A comprehensive list of free, full text, quality controlled scientific and scholarly journals.</li>\n",
    "<li><a href=\"http://www.opendoar.org/\">Directory of Open Access Repositories (OpenDOAR)</a> - Directory of academic open access repositories</li>\n",
    "<li><a href=\"http://www.sherpa.ac.uk/juliet/\">SHERPA/JULIET</a> - Summaries of research funder open access policies.</li>\n",
    "<li><a href=\"http://www.sherpa.ac.uk/romeo.php\">SHERPA/RoMEO</a> - Provides a searchable database of publisher policies on copyright and archiving</li>\n",
    "</ul>\n"
   ]
  },
  {
   "cell_type": "markdown",
   "metadata": {
    "slideshow": {
     "slide_type": "subslide"
    }
   },
   "source": [
    "### McMaster provides MacSphere for postprints and all other open access article types\n",
    "More on MacSphere next session"
   ]
  },
  {
   "cell_type": "markdown",
   "metadata": {
    "slideshow": {
     "slide_type": "slide"
    }
   },
   "source": [
    "# Here is a real list of places you can post postprints \n",
    "\n",
    "You would need to submit the ugly word doc final accepted version, not the pretty proofed/journal formatted version  \n",
    "\n",
    "- Your own website \n",
    "- Your co-author's institutional repository\n",
    "- <a href = \"https://macsphere.mcmaster.ca/\">Mac Sphere</a>\n",
    "    - The info session on Mac Sphere is up next.\n",
    "- Sites like   <a href = \"academia.edu\">academia.edu</a>\n",
    "\n",
    "  \n",
    "    \n",
    "### The real truth is that you could post your postprint anywhere it is allowed and publically searchable.   \n",
    "You could even make youtube videos of you holding up a word doc of your paper and read it aloud."
   ]
  },
  {
   "cell_type": "markdown",
   "metadata": {
    "slideshow": {
     "slide_type": "slide"
    }
   },
   "source": [
    "# Online Repositories\n",
    "## Here is the list of repositories where you could post your preprints of your papers :\n",
    "\n",
    "- OSF Preprints\n",
    "- Selected Open Science Framework Partner Repositories:  \n",
    "    - PsyArxiv  \n",
    "    - bioRxiv  \n",
    "    - MediArXiv  \n",
    "    - MetaArXiv  \n",
    "    - PeerJ  \n",
    "    - Preprints.org  \n",
    "    - PsyArXiv  \n",
    "    - SocArXiv\n",
    "- <a href = \"https://macsphere.mcmaster.ca/\">Mac Sphere</a>\n",
    "    - The info session on Mac Sphere is up next."
   ]
  },
  {
   "cell_type": "markdown",
   "metadata": {
    "slideshow": {
     "slide_type": "slide"
    }
   },
   "source": [
    "# Where can I post my data for CHIR?\n",
    "\n",
    "- <a href=\"http://oad.simmons.edu/oadwiki/Data_repositories\">Simmons list of open access Data Repositories</a>\n",
    "- <a href=\"https://data.mendeley.com/\">Mendelay -owned by Elsevier</a>\n",
    "- <a href=\"http://www.science.gc.ca/eic/site/063.nsf/eng/h_94D49094.html\">Check the Annex</a>"
   ]
  },
  {
   "cell_type": "markdown",
   "metadata": {
    "slideshow": {
     "slide_type": "slide"
    }
   },
   "source": [
    "# Questions and discussion"
   ]
  }
 ],
 "metadata": {
  "celltoolbar": "Slideshow",
  "kernelspec": {
   "display_name": "Python 3",
   "language": "python",
   "name": "python3"
  },
  "language_info": {
   "codemirror_mode": {
    "name": "ipython",
    "version": 3
   },
   "file_extension": ".py",
   "mimetype": "text/x-python",
   "name": "python",
   "nbconvert_exporter": "python",
   "pygments_lexer": "ipython3",
   "version": "3.7.3"
  },
  "toc": {
   "base_numbering": 1,
   "nav_menu": {},
   "number_sections": false,
   "sideBar": false,
   "skip_h1_title": false,
   "title_cell": "Table of Contents",
   "title_sidebar": "Contents",
   "toc_cell": false,
   "toc_position": {},
   "toc_section_display": false,
   "toc_window_display": false
  }
 },
 "nbformat": 4,
 "nbformat_minor": 2
}
