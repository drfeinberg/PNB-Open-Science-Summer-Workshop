{
 "cells": [
  {
   "cell_type": "markdown",
   "metadata": {
    "slideshow": {
     "slide_type": "slide"
    }
   },
   "source": [
    "# Registered Reports  \n",
    "\n",
    "<img src=\"img/registered_reports.png\">"
   ]
  },
  {
   "cell_type": "markdown",
   "metadata": {
    "slideshow": {
     "slide_type": "slide"
    }
   },
   "source": [
    "# Registered Reports address many issues in scientific publishing\n",
    "\n",
    "- Lack of replication \n",
    "- Low statistical power\n",
    "- Exploiting researcher degrees of freedom (p-hacking)\n",
    "    - collecting data until analyses return statistically significant effects\n",
    "    - selectively reporting analyses that reveal desirable outcomes. \n",
    "- HARKing, or hypothesizing after results are known\n",
    "- Publication bias\n",
    "- Lack of data sharing"
   ]
  },
  {
   "cell_type": "markdown",
   "metadata": {
    "slideshow": {
     "slide_type": "slide"
    }
   },
   "source": [
    "# Drawbacks\n",
    "\n",
    "- Takes a lot of time  \n",
    "    - Despite In-Principle Acceptance at Stage 1, these manuscripts are **not** often recognised on \n",
    "        - job applications\n",
    "        - the ROA/performance evaluations\n",
    "        - grant applications\n",
    "    - Your paper could still be rejected at stage 2\n",
    "        - This only is supposed to occur if the authors strayed from protocols in ways that would\n",
    "            - Change the nature of the study\n",
    "            - Suggest Questionable Research Practices\n",
    "    - This can be difficult to manage for people early in their careers\n",
    "- Reviewer 2 gets two chances to mess your study up  "
   ]
  },
  {
   "cell_type": "markdown",
   "metadata": {
    "slideshow": {
     "slide_type": "slide"
    }
   },
   "source": [
    "# Which journals offer registered reports?\n",
    "\n",
    "Here are some examples that I thought might be relevant to the department.\n",
    "\n",
    "- Psychological Science\n",
    "- Psychonomic Bulliten and Review\n",
    "- Evolution and Human Behavior\n",
    "- Quarterly Journal of Experimental Psychology \n",
    "- Perception\n",
    "- Nature Human Behaviour \n",
    "- Journal of Personality and Social Psychology \n",
    "- Journal of Neuroscience Research \n",
    "- Journal of Experimental Psychology: Learning, Memory, and Cognition \n",
    "- Journal of Experimental Social Psychology \n",
    "- Infancy\n",
    "- Infant Behavior and Development \n",
    "- Developmental Science \n",
    "- Animal Behavior and Cognition \n",
    "- Behavioral Neuroscience \n",
    "- Attention, Perception, & Psychophysics\n"
   ]
  },
  {
   "cell_type": "markdown",
   "metadata": {
    "slideshow": {
     "slide_type": "slide"
    }
   },
   "source": [
    "# Registered Report Workflow\n",
    "\n",
    "\n",
    "<img src= \"img/registered_report_workflow.png\" width=75%>"
   ]
  },
  {
   "cell_type": "markdown",
   "metadata": {
    "slideshow": {
     "slide_type": "slide"
    }
   },
   "source": [
    "# Registered Report Example\n",
    "\n",
    "\n",
    "\n",
    "<a href=\"https://osf.io/8hma7/\" target=\"_blank\"> Here</a>  is an example of a preregistration of a registered report we have accepted in principle at Evolution and Human Behavior.  It also has a preprint.\n",
    "\n"
   ]
  },
  {
   "cell_type": "markdown",
   "metadata": {
    "slideshow": {
     "slide_type": "slide"
    }
   },
   "source": [
    "# Questions and Discussion\n",
    "\n",
    "\n",
    "-----------\n",
    "Materials adapted from: https://cos.io/rr/"
   ]
  }
 ],
 "metadata": {
  "celltoolbar": "Slideshow",
  "kernelspec": {
   "display_name": "Python 3",
   "language": "python",
   "name": "python3"
  },
  "language_info": {
   "codemirror_mode": {
    "name": "ipython",
    "version": 3
   },
   "file_extension": ".py",
   "mimetype": "text/x-python",
   "name": "python",
   "nbconvert_exporter": "python",
   "pygments_lexer": "ipython3",
   "version": "3.7.3"
  }
 },
 "nbformat": 4,
 "nbformat_minor": 2
}
