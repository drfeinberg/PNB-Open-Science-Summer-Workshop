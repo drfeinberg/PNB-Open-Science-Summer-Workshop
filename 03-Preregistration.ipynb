{
 "cells": [
  {
   "cell_type": "markdown",
   "metadata": {
    "slideshow": {
     "slide_type": "slide"
    }
   },
   "source": [
    "# Preregistration\n",
    "\n",
    "\n"
   ]
  },
  {
   "cell_type": "markdown",
   "metadata": {
    "slideshow": {
     "slide_type": "slide"
    }
   },
   "source": [
    "# What is preregistration?\n",
    "\n",
    "- Specifying to your plan in advance, before you gather data. \n",
    "- Preregistration separates hypothesis-generating  (exploratory) from hypothesis-testing (confirmatory) research \n",
    "    - Both are important. \n",
    "- The same data cannot be used to generate and test a hypothesis\n",
    "    - Nevertheless in reality, this appens often\n",
    "    - This often happens unintentionally\n",
    "    - The consequence is that it reduces the credibility of you as a scientist and your results  \n",
    "- Addressing this problem through planning:\n",
    "    - Improves the quality and transparency of your research\n",
    "    - Helps others who may wish to build on it"
   ]
  },
  {
   "cell_type": "markdown",
   "metadata": {
    "slideshow": {
     "slide_type": "slide"
    }
   },
   "source": [
    "# Why would I preregister a study?\n",
    "\n",
    "- Increase reproducibility\n",
    "- Increase trust in research by being transparent\n",
    "- Fight against Questionable Research Practices"
   ]
  },
  {
   "cell_type": "markdown",
   "metadata": {
    "slideshow": {
     "slide_type": "slide"
    }
   },
   "source": [
    "## I am not doing anything wrong.  Why should I waste my time?\n",
    "\n",
    "- This isn't about paying a pennance for doing something wrong  \n",
    "- This is about taking collective action against Questionable Research Practices \n",
    "\n",
    "#### Leading by example\n",
    "- By voluntarily being transparant about research practices, we can:  \n",
    "    - Regain trust in research  \n",
    "    - Create a research environment that is more difficult for Questionable Research Practices to thrive in\n",
    "- This is about putting the benefit of the scientific community before the ease of our current research climate "
   ]
  },
  {
   "cell_type": "markdown",
   "metadata": {
    "slideshow": {
     "slide_type": "slide"
    }
   },
   "source": [
    "# An example preregistration of a study of mine\n",
    "\n",
    "<a href=\"https://osf.io/pdwcb\" target=\"_blank\">Automate Formant Ceiling</a>"
   ]
  },
  {
   "cell_type": "markdown",
   "metadata": {
    "slideshow": {
     "slide_type": "slide"
    }
   },
   "source": [
    "# Challenges\n",
    "\n",
    "- Changes to procedure during study administration\n",
    "- Discovery of assumption violations during analysis\n",
    "- Data are pre-existing\n",
    "- Longitudinal studies and large, multivariate datasets\n",
    "- Many experiments\n",
    "- A program of research\n",
    "- Few a priori expectations\n",
    "- Competing predictions\n",
    "- Narritive inferences and conclusions"
   ]
  },
  {
   "cell_type": "markdown",
   "metadata": {
    "slideshow": {
     "slide_type": "subslide"
    }
   },
   "source": [
    "# Changes to procedure during study administration\n",
    "- What if you didn't account for:\n",
    "    - the fact that half of your babies are falling asleep during testing\n",
    "    - your mice decided to eat each other\n",
    "    - your adult subjects are bored with your study\n",
    "    - you made a mistake in your procedure\n",
    "    - your algorithm parameters are unsuitible\n",
    " \n",
    " <H2> Don't Panic, Document it</H2>\n",
    "<h3>With transparent reporting, readers can assess the deviations and their rationale</h3>"
   ]
  },
  {
   "cell_type": "markdown",
   "metadata": {
    "slideshow": {
     "slide_type": "subslide"
    }
   },
   "source": [
    "# Discovery of assumption violations during analysis\n",
    "\n",
    "- What if your data violate normality assumptions or other similar situations?\n",
    "    - Some studies can be preregistered in stages\n",
    "        - Register study, plan a normality check\n",
    "        - Register analysis type after normality checks\n",
    "    - Register a decision tree\n",
    "    - Establish standard operating procedures (SOPs) that accompany one\n",
    "or many preregistrations\n",
    "    \n",
    "- Just document any changes you make"
   ]
  },
  {
   "cell_type": "markdown",
   "metadata": {
    "slideshow": {
     "slide_type": "subslide"
    }
   },
   "source": [
    "# Data are pre-existing\n",
    "- Meta analysis?\n",
    "- Analyze old data in new way?\n",
    "- Came to a new lab and got given data?\n",
    "\n",
    "#### A study can be preregistered at any stage before analysis\n",
    "- Analysis plan must be blind to research outcomes\n",
    "- If nobody has observed data, pre-registration is possible  \n",
    "- If someone has observed the data, it may not be possible to preregister it\n",
    "    - A replication could be preregistered\n",
    "\n",
    "    \n",
    "- Meta analysis is allowed in pre-registration if blind to research outcomes\n",
    "\n",
    " \n"
   ]
  },
  {
   "cell_type": "markdown",
   "metadata": {
    "slideshow": {
     "slide_type": "subslide"
    }
   },
   "source": [
    "# Longitudinal studies and large, multivariate datasets\n",
    "\n",
    "What do you do if you cannot preregister the entire design and analysis plan for all\n",
    "future papers at project onset?  \n",
    "\n",
    "\n",
    "- Preregistered in stages\n",
    "- Register a decision tree\n",
    "- Establish standard operating procedures (SOPs) that accompany one or many preregistrations\n",
    "- Document changes to procedures and deviations from original preregistration\n",
    "- Analysis plan must be blind to research outcomes\n",
    " "
   ]
  },
  {
   "cell_type": "markdown",
   "metadata": {
    "slideshow": {
     "slide_type": "subslide"
    }
   },
   "source": [
    "# Too Many Experiments\n",
    "\n",
    "What do you do if you have a lab that runs lots of experiments?  Preregistration takes too much time. \n",
    "\n",
    "- Are you running a research paradigm?\n",
    "    - Create a preregistration template\n",
    "        - Defines the variables and parameters for the protocol\n",
    "    - Change template for each new experiment\n",
    "- Documenting process slowing you down because data collection is so easy?\n",
    "    - First do an undocumented exploratory study\n",
    "    - Then preregister a confirmatory replication"
   ]
  },
  {
   "cell_type": "markdown",
   "metadata": {
    "slideshow": {
     "slide_type": "subslide"
    }
   },
   "source": [
    "# Program of Research\n",
    "- Analysis plan must be blind to research outcomes\n",
    "- All outcomes of analysis plan must be reported\n",
    "    - No selective reporting!\n",
    "    - No file drawers\n",
    "- Does not overcome multiple comparisons"
   ]
  },
  {
   "cell_type": "markdown",
   "metadata": {
    "slideshow": {
     "slide_type": "subslide"
    }
   },
   "source": [
    "# Few *a priori* expectations\n",
    "What if you are just trying to discover something?  What if you are *just* exploring?\n",
    "\n",
    "- You probably still do have a few basic predictions.  \n",
    "- Run the study as an exploratory study\n",
    "    - Replicate the study as a preregistered confirmatory study\n",
    "    - If dataset is large enough, split in half\n",
    "        - Explore in one half, confirm on other half\n",
    "\n"
   ]
  },
  {
   "cell_type": "markdown",
   "metadata": {
    "slideshow": {
     "slide_type": "subslide"
    }
   },
   "source": [
    "# Narrative inferences and conclusions\n",
    "\n",
    "What if only 1/10 statistical tests are significant.  How to avoid focusing only on the \"successful\" parts of the study?\n",
    "\n",
    "- Preregistration prevents people from reporting only those statistical inferences that fit a narrative  \n",
    "- Preregistration does not prevent selective attention of readers and authors to focus only on results deemed \"successful\" or \"interesting\""
   ]
  },
  {
   "cell_type": "markdown",
   "metadata": {
    "slideshow": {
     "slide_type": "slide"
    }
   },
   "source": [
    "\n",
    "Mostly adapted from: Nosek, B. A., Ebersole, C. R., DeHaven, A. C., & Mellor, D. T. (2018). The preregistration revolution. Proceedings of the National Academy of Sciences, 115(11), 2600-2606.f"
   ]
  },
  {
   "cell_type": "markdown",
   "metadata": {
    "slideshow": {
     "slide_type": "slide"
    }
   },
   "source": [
    "# Questions and Discussion"
   ]
  }
 ],
 "metadata": {
  "celltoolbar": "Slideshow",
  "kernelspec": {
   "display_name": "Python 3",
   "language": "python",
   "name": "python3"
  },
  "language_info": {
   "codemirror_mode": {
    "name": "ipython",
    "version": 3
   },
   "file_extension": ".py",
   "mimetype": "text/x-python",
   "name": "python",
   "nbconvert_exporter": "python",
   "pygments_lexer": "ipython3",
   "version": "3.7.3"
  }
 },
 "nbformat": 4,
 "nbformat_minor": 2
}
