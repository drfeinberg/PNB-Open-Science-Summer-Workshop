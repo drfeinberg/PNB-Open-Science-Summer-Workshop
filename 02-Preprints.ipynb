{
 "cells": [
  {
   "cell_type": "markdown",
   "metadata": {
    "slideshow": {
     "slide_type": "slide"
    }
   },
   "source": [
    "\n",
    "<center> <h1>Open Science Initiatives </h1></center>\n",
    "<h1></h1>\n",
    "\n",
    "<center><img src =\"img/mcm-sci-pnb_left-col_eps.png\"></center>\n",
    "<img src=\"img/open_science_venn.jpg\" width=65%>"
   ]
  },
  {
   "cell_type": "markdown",
   "metadata": {
    "slideshow": {
     "slide_type": "slide"
    }
   },
   "source": [
    "### Preprints  \n",
    "- Address open access issues\n",
    "- Accellerate scientific progress\n",
    "- Reduce file drawer\n",
    "- Reveal differences between original manuscript and final accepted version\n",
    "\n",
    "### Preregistration\n",
    "- Preregistration separates hypothesis-generating (exploratory) from hypothesis-testing (confirmatory) research \n",
    "- Increases transparancy in methodological decision making\n",
    "- Decreases selective reporting\n",
    "\n",
    "### Registered Reports\n",
    "- Prevent outcome of study as a means to reject a study\n",
    "- Prevent researchers from selectively reporting results\n"
   ]
  },
  {
   "cell_type": "markdown",
   "metadata": {
    "slideshow": {
     "slide_type": "slide"
    }
   },
   "source": [
    "# Preprints\n",
    "\n",
    "- Preprints are scholarly works posted online before they are accepted for publication\n",
    "    - Often they are submitted before peer review\n",
    "    - Can be submitted at any time *before* final acceptance\n",
    "    \n",
    "<center><img src =\"img/Snip-4.png\" width=50%></center>\n"
   ]
  },
  {
   "cell_type": "markdown",
   "metadata": {
    "slideshow": {
     "slide_type": "slide"
    }
   },
   "source": [
    "# <center>Preprints </center>\n",
    "\n",
    "<center><img src =\"img/pros_cons.jpeg\"></center>\n"
   ]
  },
  {
   "cell_type": "markdown",
   "metadata": {
    "slideshow": {
     "slide_type": "subslide"
    }
   },
   "source": [
    "## Benefits of preprints\n",
    "\n",
    "- Quality check of work before peer review\n",
    "- Accelerate pace of science by sharing findings \n",
    "    - It can take years to publish a paper\n",
    "    - Students and Collegues can be up to speed with current work\n",
    "- Open access\n",
    "- No fees\n",
    "- No predatory preprint servers\n",
    "- Nobody profiting off your hard work\n",
    "- Reduces file drawer problem\n",
    "- Publications rejected because of journal/editorial agendas still see light of day\n"
   ]
  },
  {
   "cell_type": "markdown",
   "metadata": {
    "slideshow": {
     "slide_type": "subslide"
    }
   },
   "source": [
    "## Drawbacks of Preprints\n",
    "- Extra work\n",
    "- Not fully accepted by scientific community\n",
    "- Some journals will not publish papers that have been posted on web\n",
    "- Some journals will not accept citations of preprints\n",
    "    - e.g. Trends in Cognitive Sciences\n",
    "- Fear that many poor quality studies will flood the fields\n",
    "    - Some evidence for this\n",
    "- Fear of being scooped\n",
    "    - Preprints have DOI's so there is recourse\n",
    "- Currently a preprint will **NOT** necessarily help you get a:\n",
    "    - PhD\n",
    "    - Job\n",
    "    - Promotion\n",
    "    - Raise\n",
    "    - **It is up to us to change this**\n"
   ]
  },
  {
   "cell_type": "markdown",
   "metadata": {
    "slideshow": {
     "slide_type": "slide"
    }
   },
   "source": [
    "# Preprint workflow\n",
    "\n",
    "\n",
    "1. Choose a preprint service  \n",
    "2. Get permission from all authors to share the preprint  \n",
    "3. Prepare your preprint file  \n",
    "4. Prepare supplemental materials  \n",
    "5. Choose disciplines  \n",
    "6. Decide how you want to license your preprint  \n",
    "7. Write the abstract  \n",
    "8. Determine the authorship order \n",
    "\n",
    "\n",
    "\n",
    "- From: http://help.osf.io/m/preprints/l/691805-how-to-prepare-your-preprint"
   ]
  },
  {
   "cell_type": "markdown",
   "metadata": {
    "slideshow": {
     "slide_type": "slide"
    }
   },
   "source": [
    "## Some Preprint Sercives\n",
    "\n",
    "- OSF Preprints\n",
    "- PsyArxiv  \n",
    "- bioRxiv  \n",
    "- MediArXiv  \n",
    "- MetaArXiv  \n",
    "- PeerJ  \n",
    "- Preprints.org  \n",
    "- PsyArXiv  \n",
    "- SocArXiv\n",
    "- <a href = \"https://macsphere.mcmaster.ca/\">Mac Sphere</a>\n",
    "\n",
    "### Good news!  All of these servers are indexed by Google Scholar"
   ]
  },
  {
   "cell_type": "markdown",
   "metadata": {
    "slideshow": {
     "slide_type": "slide"
    }
   },
   "source": [
    "# Author permission\n",
    "\n",
    "- You may have to teach your co-authors about preprints.  \n",
    "- Make sure you have written permission to submit a preprint from all of your co-authors."
   ]
  },
  {
   "cell_type": "markdown",
   "metadata": {
    "slideshow": {
     "slide_type": "slide"
    }
   },
   "source": [
    "## Preparing a preprint\n",
    "- A preprint is just a regular manuscript, so write your manuscript the way you would normally  \n",
    "- What is nice is that you don't need to adhere to a journal's formatting rules\n",
    "    - You may want to prepare it for journal submission\n",
    "        - You could submit the preprint at the same time as submitting it to a journal\n",
    "        - You could submit the preprint before submitting it to a journal\n",
    "- Prepare your supplimentary materials also\n",
    "    - In open science, we are encouraged to share:\n",
    "        - Stimuli  \n",
    "        - Experiment code  \n",
    "        - Data  \n",
    "        - Full analysis and code  \n",
    "        - You can even have open manuscripts with version tracking to be transparant about editorial decisions\n",
    "            - This is on the extreme end\n",
    "    - The idea is to make the entire experiment replicable and transparant\n",
    "        - This will be the focus of next session on the Reproducibility Revolution"
   ]
  },
  {
   "cell_type": "markdown",
   "metadata": {
    "slideshow": {
     "slide_type": "slide"
    }
   },
   "source": [
    "# Submitting a preprint  \n",
    "### <a href =\"https://help.osf.io/hc/en-us/articles/360019930533-Upload-a-Preprint\" target=\"_blank\">OSF preprints</a>\n",
    "\n",
    "\n",
    "\n"
   ]
  }
 ],
 "metadata": {
  "celltoolbar": "Slideshow",
  "kernelspec": {
   "display_name": "Python 3",
   "language": "python",
   "name": "python3"
  },
  "language_info": {
   "codemirror_mode": {
    "name": "ipython",
    "version": 3
   },
   "file_extension": ".py",
   "mimetype": "text/x-python",
   "name": "python",
   "nbconvert_exporter": "python",
   "pygments_lexer": "ipython3",
   "version": "3.7.3"
  },
  "toc": {
   "base_numbering": 1,
   "nav_menu": {},
   "number_sections": false,
   "sideBar": false,
   "skip_h1_title": false,
   "title_cell": "Table of Contents",
   "title_sidebar": "Contents",
   "toc_cell": false,
   "toc_position": {},
   "toc_section_display": false,
   "toc_window_display": false
  }
 },
 "nbformat": 4,
 "nbformat_minor": 2
}
