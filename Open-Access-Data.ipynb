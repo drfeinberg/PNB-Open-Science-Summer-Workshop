{
 "cells": [
  {
   "cell_type": "markdown",
   "metadata": {
    "slideshow": {
     "slide_type": "slide"
    }
   },
   "source": [
    "<center><img src=\"img/open_access.png\"><center>\n",
    "\n",
    "# <center>Data<center>"
   ]
  },
  {
   "cell_type": "markdown",
   "metadata": {
    "slideshow": {
     "slide_type": "slide"
    }
   },
   "source": [
    "# Open data is\n",
    "\n",
    "- Available: the data should be in whole, downloadable from the Internet, with no costs apart from reproduction fees\n",
    "- Accessible: the data should be provided in a convenient form that can be modified\n",
    "- Reusable: this should be expressed under terms provided with the data\n",
    "- Redistributable: the data can be combined with data from other research\n",
    "- Unrestricted: everyone can use, modify, and share the data, regardless of how they use the data (e.g. for commercial, non-commercial, or educational purposes)\n"
   ]
  },
  {
   "cell_type": "markdown",
   "metadata": {
    "slideshow": {
     "slide_type": "slide"
    }
   },
   "source": [
    "## Benefits of sharing Open Access Data\n",
    "- Ease of Replication\n",
    "- Most research is funded by the public\n",
    "    - Therefore the public should not have to pay to access the data they have already paid for  \n",
    "- Better meta-analyses when full data are available\n",
    "- Scientific transparancy and credibility\n",
    "- If you hold a CIHR, this is part of the mandate  \n",
    "- Publisher requirements\n",
    "- Increase collaborations\n",
    "- Enable future discoveries  \n"
   ]
  },
  {
   "cell_type": "markdown",
   "metadata": {
    "slideshow": {
     "slide_type": "slide"
    }
   },
   "source": [
    "# Open data can take many forms...\n",
    "\n",
    "<img src=\"img/opendatatable.png\">"
   ]
  },
  {
   "cell_type": "markdown",
   "metadata": {},
   "source": [
    "# You already benefit tremendously from open data\n",
    "- GPS  \n",
    "- Medical research\n",
    "- Stats Canada\n",
    "- IMDB\n",
    "- Rate My Prof"
   ]
  },
  {
   "cell_type": "markdown",
   "metadata": {
    "slideshow": {
     "slide_type": "slide"
    }
   },
   "source": [
    "# Ethics and open access data\n",
    "\n",
    "- Make sure you apply for ethics approval to post data online in open access repositories\n",
    "    - You can always write an amendment \n",
    "- It is important to follow your ethics guidelines and anonymize data before it is posted online  "
   ]
  },
  {
   "cell_type": "markdown",
   "metadata": {
    "slideshow": {
     "slide_type": "slide"
    }
   },
   "source": [
    "## Where to make data available  \n",
    "\n",
    "- <a href = \"https://macsphere.mcmaster.ca/\">Mac Sphere</a>    \n",
    "- <a href=\"https://osf.io/\">Open Science Framework</a>\n",
    "- <a href=\"http://oad.simmons.edu/oadwiki/Data_repositories\">Simmons list of open access Data Repositories</a>\n",
    "- <a href=\"https://data.mendeley.com/\">Mendelay (owned by Elsevier)</a>\n",
    "- <a href=\"http://www.science.gc.ca/eic/site/063.nsf/eng/h_94D49094.html\">Government of Canada Annex</a>"
   ]
  },
  {
   "cell_type": "markdown",
   "metadata": {
    "slideshow": {
     "slide_type": "slide"
    }
   },
   "source": [
    "# Best practices in making data available\n",
    "- Good \n",
    "    - Post final data set\n",
    "- Better \n",
    "    - Post raw data\n",
    "- Best\n",
    "    - Post raw data\n",
    "        - Show how you get from raw data to analysis\n",
    "        - codebook\n",
    "        - well commented analysis files \n",
    "        - Post data with preprint before submitting to journal"
   ]
  },
  {
   "cell_type": "markdown",
   "metadata": {
    "slideshow": {
     "slide_type": "subslide"
    }
   },
   "source": [
    "# Don't use proprietary software or file formats\n",
    "\n",
    "- These formats\n",
    "    - can disappear when comanies decide\n",
    "    - are not accessible to many in non-wealthy countries\n",
    "    - do not facilitate open source practices\n"
   ]
  },
  {
   "cell_type": "markdown",
   "metadata": {
    "slideshow": {
     "slide_type": "subslide"
    }
   },
   "source": [
    "# Proprietary formats and alternatives\n",
    "<img src=\"img/formats.png\">"
   ]
  },
  {
   "cell_type": "markdown",
   "metadata": {
    "slideshow": {
     "slide_type": "subslide"
    }
   },
   "source": [
    "# More proprietary formats and alternatives\n",
    "<img src=\"img/formats2.png\">"
   ]
  },
  {
   "cell_type": "markdown",
   "metadata": {
    "slideshow": {
     "slide_type": "subslide"
    }
   },
   "source": [
    "# Always use raw, uncompressed data\n",
    "\n",
    "## Data is lost and/or altered when compressing.\n",
    "\n",
    "<table><td><img src=\"img/img43.jpg\"></td><td><img src=\"img/img44.jpg\"></td><td><img src=\"img/img45.jpg\"></td></table>"
   ]
  },
  {
   "cell_type": "markdown",
   "metadata": {
    "slideshow": {
     "slide_type": "slide"
    }
   },
   "source": [
    "# Tools to facilitate open access data\n",
    "\n",
    "- <a href=\"https://jupyter.org/\">Anaconds's Jupyter Notebooks</a>  \n",
    "- <a href=\"https://www.rstudio.com/\">RStudio Markdom (Rmd)</a>  \n",
    "- <a href=\"https://cran.r-project.org/web/packages/codebook/index.html\">Codebook</a>  \n",
    "- <a href=\"https://github.com/\">Github</a>\n"
   ]
  },
  {
   "cell_type": "markdown",
   "metadata": {
    "slideshow": {
     "slide_type": "slide"
    }
   },
   "source": [
    "# Anaconda \n",
    "    - <a href=\"https://www.anaconda.com\">Anaconda</a> is a scientific Python distribution\n",
    "    - <a href=\"https://jupyter.org/\">Jupyter notebooks</a> run codeblocks and markdown to create detailed explanations of data processing and analysis  \n",
    "        - Support for Python, R, Julia, and other languages  \n",
    "        - This presentation was written in Jupyter notebook\n",
    "    - Spyder is an IDE modelled after MatLab\n",
    "        - Also check out <a href=\"https://www.jetbrains.com/pycharm/\">PyCharm</a>\n",
    "            - Pycharm professional (free to academics) has Science Mode  \n",
    "    \n",
    "    \n",
    " <img src=\"img/jupyter-demo.png\" width=75%>"
   ]
  },
  {
   "cell_type": "markdown",
   "metadata": {
    "slideshow": {
     "slide_type": "slide"
    }
   },
   "source": [
    "- <a href=\"https://www.rstudio.com/\">RStudio Markdom (Rmd)</a>  \n",
    "    - Support for R, Python, and other languages  \n",
    "    - Use codeblocks to create detailed explanations of data processing and analysis    \n",
    "<img src=\"img/notebook-demo.png\">"
   ]
  },
  {
   "cell_type": "markdown",
   "metadata": {
    "slideshow": {
     "slide_type": "slide"
    }
   },
   "source": [
    "- <a href=\"https://rubenarslan.github.io/codebook/articles/codebook.html\">Codebook</a>  \n",
    "    - automate the following tasks to describe data frames:  \n",
    "        - Summarise the distributions, and labelled missings of variables graphically and using descriptive statistics\n",
    "        - For surveys, compute and summarise reliabilities (internal consistencies, retest, multilevel) for psychological scales. \n",
    "        - Combine this information with metadata (such as item labels and labelled values) that is derived from R attributes. \n",
    "        - Generate HTML, PDF, and Word documents\n"
   ]
  },
  {
   "cell_type": "markdown",
   "metadata": {
    "slideshow": {
     "slide_type": "slide"
    }
   },
   "source": [
    "- <a href=\"https://github.com/\">Github</a>\n",
    "    - A version tracking open access repository for code  \n",
    "    - You can post smaller datasets on Github\n",
    "    - You can host websites that explain your data and analysis:\n",
    "        - e.g. <a href=\"https://rubenarslan.github.io/ovulatory_shifts/#table-of-contents\">Ruben Arslan's Ovulagory Shifts site</a>"
   ]
  },
  {
   "cell_type": "markdown",
   "metadata": {
    "slideshow": {
     "slide_type": "slide"
    }
   },
   "source": [
    "# You don't need fancy coding software to have open access data  \n",
    "\n",
    "- You can use excel  \n",
    "- You can use SPSS and have it record your button presses and translate them into a script  \n",
    "- You can do whatever you like"
   ]
  },
  {
   "cell_type": "markdown",
   "metadata": {
    "slideshow": {
     "slide_type": "slide"
    }
   },
   "source": [
    "# Questions and discussion\n",
    "\n",
    "---------\n",
    "Some materials from\n",
    "https://libraries.mit.edu/data-management/files/2014/05/DataSharingStorage_20170125.pdf"
   ]
  },
  {
   "cell_type": "code",
   "execution_count": null,
   "metadata": {},
   "outputs": [],
   "source": []
  }
 ],
 "metadata": {
  "celltoolbar": "Slideshow",
  "kernelspec": {
   "display_name": "Python 3",
   "language": "python",
   "name": "python3"
  },
  "language_info": {
   "codemirror_mode": {
    "name": "ipython",
    "version": 3
   },
   "file_extension": ".py",
   "mimetype": "text/x-python",
   "name": "python",
   "nbconvert_exporter": "python",
   "pygments_lexer": "ipython3",
   "version": "3.7.3"
  }
 },
 "nbformat": 4,
 "nbformat_minor": 2
}
